{
 "metadata": {
  "language_info": {
   "codemirror_mode": {
    "name": "ipython",
    "version": 3
   },
   "file_extension": ".py",
   "mimetype": "text/x-python",
   "name": "python",
   "nbconvert_exporter": "python",
   "pygments_lexer": "ipython3",
   "version": "3.9.1-final"
  },
  "orig_nbformat": 2,
  "kernelspec": {
   "name": "python3",
   "display_name": "Python 3.9.1 64-bit",
   "metadata": {
    "interpreter": {
     "hash": "63fd5069d213b44bf678585dea6b12cceca9941eaf7f819626cde1f2670de90d"
    }
   }
  }
 },
 "nbformat": 4,
 "nbformat_minor": 2,
 "cells": [
  {
   "cell_type": "code",
   "execution_count": 1,
   "metadata": {},
   "outputs": [],
   "source": [
    "import findspark\n",
    "from pyspark import SparkContext\n",
    "from pyspark.sql import SparkSession \n",
    "#sc = SparkContext(\"spark://my-spark-master-svc:7077\", \"First App\")\n",
    "#sc1 = SparkContext.master(\"spark://my-spark-master-svc:7077\").getOrCreate\n",
    "\n",
    "findspark.init(\"C:\\opt\\spark-3.0.1-bin-hadoop3.2\")\n",
    "#spark = SparkSession.builder.master(\"spark://my-spark-master-svc:7077\").appName(\"AppTest\").getOrCreate();\n",
    "spark = SparkSession.builder.appName(\"AppTest\").getOrCreate()\n",
    "spark_context=spark.sparkContext\n",
    "\n",
    "#spark.stop()\n",
    "\n",
    "           \n"
   ]
  },
  {
   "cell_type": "code",
   "execution_count": 2,
   "metadata": {},
   "outputs": [
    {
     "output_type": "stream",
     "name": "stdout",
     "text": [
      "Lines with a: 98202, lines with b: 37661\n"
     ]
    }
   ],
   "source": [
    "from pyspark import SparkFiles\n",
    "# In[49]:\n",
    "logFile = \"https://ocw.mit.edu/ans7870/6/6.006/s08/lecturenotes/files/t8.shakespeare.txt\"\n",
    "\n",
    "spark_context.addFile(logFile)\n",
    "\n",
    "logData = spark_context.textFile(SparkFiles.get(\"t8.shakespeare.txt\")).cache()\n",
    "\n",
    "# In[50]:\n",
    "numAs = logData.filter(lambda s: 'a' in s).count()\n",
    "numBs = logData.filter(lambda s: 'b' in s).count()\n",
    "print(\"Lines with a: %i, lines with b: %i\" % (numAs, numBs))\n"
   ]
  },
  {
   "cell_type": "code",
   "execution_count": 3,
   "metadata": {},
   "outputs": [],
   "source": [
    "spark.stop()"
   ]
  }
 ]
}