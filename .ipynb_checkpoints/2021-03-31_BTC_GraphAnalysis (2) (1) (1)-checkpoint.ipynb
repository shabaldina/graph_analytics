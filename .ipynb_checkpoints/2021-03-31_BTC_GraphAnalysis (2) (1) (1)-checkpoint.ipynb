{
 "cells": [
  {
   "cell_type": "code",
   "execution_count": 1,
   "id": "irish-championship",
   "metadata": {},
   "outputs": [
    {
     "name": "stdout",
     "output_type": "stream",
     "text": [
      "Populating the interactive namespace from numpy and matplotlib\n"
     ]
    }
   ],
   "source": [
    "import pandas as pd\n",
    "from graphframes import *\n",
    "from pyspark import *\n",
    "from pyspark.sql import *\n",
    "from pyspark.sql.functions import col\n",
    "spark = SparkSession.builder.appName('fun').config('spark.jars.packages','graphframes:graphframes:0.8.1-spark3.0-s_2.12').getOrCreate()\n",
    "spark.sparkContext.setCheckpointDir('checkpoints')\n",
    "\n",
    "%pylab inline"
   ]
  },
  {
   "cell_type": "code",
   "execution_count": 2,
   "id": "burning-rouge",
   "metadata": {},
   "outputs": [
    {
     "name": "stdout",
     "output_type": "stream",
     "text": [
      "Amount of Transactions loaded: 1000\n",
      "\n",
      "\n",
      "-----Inputs------------------------------\n",
      "1GNin2yk8KjBo4qnNhDeQVEKmXXzWUzUxV - 0.093\n",
      "-----Outputs-----------------------------\n",
      "1NoaPoY8GeqyVu6wBH4tMdpJf9WxmDg9hH - 0.011\n",
      "1BHwQfqB2pnaM1qYdGr16H2mtgDg2VVNSd - 0.082\n",
      "_________________________________________\n",
      "\n",
      "\n",
      "-----Inputs------------------------------\n",
      "1nxG9Wem1Y2YhwPNreu8jG8EmqCYXmMjJ - 1.286\n",
      "-----Outputs-----------------------------\n",
      "121PCF2pEDeZcn8YC1AKg6sP8dyePKUnXJ - 0.700\n",
      "1nxG9Wem1Y2YhwPNreu8jG8EmqCYXmMjJ - 0.586\n",
      "_________________________________________\n"
     ]
    }
   ],
   "source": [
    "# Load data downloaded via BigQuery (Dataset: crypto_bitcoin)\n",
    "df = pd.read_pickle('BTC_Data/Download_Tiny.pickle')\n",
    "inputs_outputs = df[df.columns[-2:]].values\n",
    "print('Amount of Transactions loaded: ' + str(len(inputs_outputs)))\n",
    "\n",
    "# Print transaction in readable format\n",
    "for i in inputs_outputs[-2:]:\n",
    "    print('\\n')\n",
    "    print('-----Inputs------------------------------')\n",
    "    for idx in i[0]:\n",
    "        print(idx['addresses'][0] + ' - ' + str(round(idx['value']/100000000,3))) # convert Satoshi to BTC\n",
    "    \n",
    "    print('-----Outputs-----------------------------')\n",
    "    for idx in i[1]:\n",
    "        print(idx['addresses'][0] + ' - ' + str(round(idx['value']/100000000,3))) # convert Satoshi to BTC\n",
    "    print('_________________________________________')"
   ]
  },
  {
   "cell_type": "code",
   "execution_count": 3,
   "id": "impressed-workplace",
   "metadata": {},
   "outputs": [
    {
     "name": "stdout",
     "output_type": "stream",
     "text": [
      "Amount of distinct addresses: 3722\n",
      "Amount of distinct mutual interactions: 7018\n",
      "Amount of address clusters acc. to Common Spending Heuristic: 1000\n",
      "Amount of distinct mutual interactions of identified clusters: 456\n"
     ]
    }
   ],
   "source": [
    "# Parse data into GraphFrames-readable format\n",
    "# Assumption: ALL input addresses are parsed as fully connected to ALL output addresses\n",
    "\n",
    "# Nodes\n",
    "node_set = set()\n",
    "node_schema = ['id','address','cluster']\n",
    "for i in inputs_outputs:\n",
    "    for input_idx in i[0]:\n",
    "        node_set.add(input_idx['addresses'][0])\n",
    "    for output_idx in i[1]:\n",
    "        node_set.add(output_idx['addresses'][0])\n",
    "\n",
    "node_dict = {y: x for x, y in enumerate(node_set)}\n",
    "node_data = [(v,k,0) for k,v in node_dict.items()]\n",
    "print('Amount of distinct addresses: ' + str(len(node_data)))\n",
    "\n",
    "# Edges\n",
    "edge_data = set()\n",
    "edge_schema = ['src','dst','type']\n",
    "for i in inputs_outputs:\n",
    "    for input_idx in i[0]:\n",
    "        for output_idx in i[1]:\n",
    "            edge_data.add((node_dict[input_idx['addresses'][0]],node_dict[output_idx['addresses'][0]], 'sent_btc_to'))\n",
    "print('Amount of distinct mutual interactions: ' + str(len(edge_data)))\n",
    "\n",
    "# Clustering Algo to cluster nodes based on \"Common Spending\" heuristic - w/o pyspark or graphframes\n",
    "idx = 1\n",
    "for i in inputs_outputs:\n",
    "    # if all none -> All new\n",
    "    if all(node_data[node_dict[x['addresses'][0]]][2]==0 for x in i[0]):\n",
    "        for input_idx in i[0]:\n",
    "            node_data[node_dict[input_idx['addresses'][0]]] = (node_dict[input_idx['addresses'][0]],input_idx['addresses'][0],idx)\n",
    "        idx += 1\n",
    "    else:\n",
    "        tmp = min(node_data[node_dict[x['addresses'][0]]][2] for x in i[0] if node_data[node_dict[x['addresses'][0]]][2]!=0)\n",
    "        for input_idx in i[0]:\n",
    "            if node_data[node_dict[input_idx['addresses'][0]]][2]==0:\n",
    "                node_data[node_dict[input_idx['addresses'][0]]] = (node_dict[input_idx['addresses'][0]],input_idx['addresses'][0],tmp)\n",
    "            if node_data[node_dict[input_idx['addresses'][0]]][2]!=0 and node_data[node_dict[input_idx['addresses'][0]]][2]!=tmp:\n",
    "                replace_me = node_data[node_dict[input_idx['addresses'][0]]][2]\n",
    "                node_data[node_dict[input_idx['addresses'][0]]] = (node_dict[input_idx['addresses'][0]],input_idx['addresses'][0],tmp)\n",
    "                for rep in [x for x,v in enumerate(node_data) if v[2]==replace_me]:\n",
    "                    node_data[rep] = (x,node_data[node_dict[rep]][1],tmp)\n",
    "                    \n",
    "clustered_node_data_only = [x for x in node_data if x[2]!=0]\n",
    "print('Amount of address clusters acc. to Common Spending Heuristic: ' + str(idx-1))\n",
    "\n",
    "# Clustering Algo to cluster nodes based on \"Common Spending\" heuristic - w/ pyspark + graphframes\n",
    "# TO BE DONE\n",
    "\n",
    "# Build Edges from cluster to cluster (excl. undetected clusters)\n",
    "clustered_edge_data = set()\n",
    "clustered_edge_schema = ['src','dst','type']\n",
    "for edge in edge_data:\n",
    "    if node_data[edge[1]][2]!=0:\n",
    "        clustered_edge_data.add((node_data[edge[0]][2],node_data[edge[1]][2],'sent_btc_to'))\n",
    "print('Amount of distinct mutual interactions of identified clusters: ' + str(len(clustered_edge_data)))    "
   ]
  },
  {
   "cell_type": "code",
   "execution_count": null,
   "id": "heard-constitutional",
   "metadata": {},
   "outputs": [
    {
     "name": "stdout",
     "output_type": "stream",
     "text": [
      "These results are produced solely with Python+Pandas\n"
     ]
    },
    {
     "data": {
      "image/png": "[encoded data removed]",
      "text/plain": [
       "<Figure size 432x288 with 1 Axes>"
      ]
     },
     "metadata": {
      "needs_background": "light"
     },
     "output_type": "display_data"
    },
    {
     "data": {
      "image/png": "[encoded data removed]",
      "text/plain": [
       "<Figure size 432x288 with 1 Axes>"
      ]
     },
     "metadata": {
      "needs_background": "light"
     },
     "output_type": "display_data"
    },
    {
     "name": "stdout",
     "output_type": "stream",
     "text": [
      "Maximum addresses per cluster in selected dataset: 379\n",
      "\n",
      "\n",
      "These results are produced with PySpark+GraphFrames\n"
     ]
    }
   ],
   "source": [
    "# This section performs analysis on the transaction graph based on research conducted by\n",
    "# Dorit Ron, Adi Shamir: Quantitative Analysis of the Full Bitcoin Transactiongraph, https://eprint.iacr.org/2012/584.pdf\n",
    "\n",
    "\n",
    "# ---------- Without PySpark+GraphFrames ----------\n",
    "print(\"These results are produced solely with Python+Pandas\")\n",
    "\n",
    "# Read clustered nodes in Pandas DataFrame\n",
    "df = pd.DataFrame(clustered_node_data_only)\n",
    "\n",
    "# Count addresses per cluster\n",
    "df = df[[1,2]].groupby([2]).agg('count')\n",
    "\n",
    "# Filter for only clusters with at leatst 10 addresses\n",
    "df_filtered = df.loc[df[1]>10]\n",
    "\n",
    "# Plot histogram of addresses per cluster\n",
    "df.plot.hist(title='Amount of addreses per cluster (unfiltered)', bins=50)\n",
    "df_filtered.plot.hist(title='Amount of addresses per cluster (filtered)', bins=50)\n",
    "plt.show()\n",
    "\n",
    "# Print max amount of addresses per cluster in dataset\n",
    "print(\"Maximum addresses per cluster in selected dataset: \" + str(max(df[1].values)))\n",
    "\n",
    "\n",
    "# ---------- With PySpark+GraphFrames ----------\n",
    "print(\"\\n\\nThese results are produced with PySpark+GraphFrames\")\n",
    "\n",
    "# Perform GroupBy+Count in Spark DataFrame\n",
    "spark_df = gf.vertices.groupBy('cluster').count()\n",
    "\n",
    "# Read clustered nodes in Pandas DataFrame\n",
    "pandas_df = spark_df.toPandas().set_index('cluster')\n",
    "\n",
    "# Read only clusters with more than 10 addresses in Pandas DataFrame\n",
    "pandas_df_filtered = spark_df.filter(col('count')>10).toPandas().set_index('cluster')\n",
    "\n",
    "# Plot histogram of addresses per cluster\n",
    "pandas_df.plot.hist(title='Amount of addreses per cluster (unfiltered)',bins=50)\n",
    "pandas_df_filtered.plot.hist(title='Amount of addreses per cluster (filtered)',bins=50)\n",
    "\n",
    "# Print max amount of addresses per cluster in dataset\n",
    "print(\"Maximum addresses per cluster in selected dataset: \" + str(spark_df.groupby().max('count').first().asDict()['max(count)']))"
   ]
  },
  {
   "cell_type": "code",
   "execution_count": null,
   "id": "grateful-venezuela",
   "metadata": {},
   "outputs": [],
   "source": [
    "# Analyse the inflow, outflow and balance via spark base functions\n",
    "\n",
    "# Find that pagerank points to the same nod as the one controlling the ost addresses/spending/receiving the most"
   ]
  },
  {
   "cell_type": "code",
   "execution_count": null,
   "id": "indie-recall",
   "metadata": {},
   "outputs": [],
   "source": [
    "# ---------- OLD ----------\n",
    "# Plot distribution of spending (cardinality)\n",
    "plt.hist([e[0] for e in clustered_edge_data], bins=50)\n",
    "plt.suptitle('Spending (Cardinality) by Address Cluster')\n",
    "plt.show()\n",
    "\n",
    "# Plot distribution of receiving (cardinality)\n",
    "plt.hist([e[1] for e in clustered_edge_data],bins=50)\n",
    "plt.suptitle('Receiving (Cardinality) by Address Cluster')\n",
    "plt.show()"
   ]
  },
  {
   "cell_type": "code",
   "execution_count": 5,
   "id": "powerful-strand",
   "metadata": {},
   "outputs": [],
   "source": [
    "# Load data into Spark GraphFrames\n",
    "vertices = spark.createDataFrame(clustered_node_data_only,node_schema)\n",
    "edges = spark.createDataFrame(clustered_edge_data,clustered_edge_schema)\n",
    "\n",
    "gf = GraphFrame(vertices,edges)"
   ]
  },
  {
   "cell_type": "code",
   "execution_count": null,
   "id": "operational-consent",
   "metadata": {},
   "outputs": [],
   "source": [
    "# DRAFT Connected Components\n",
    "\n",
    "result = gf.connectedComponents()\n",
    "result.select(\"id\", \"component\").orderBy(\"component\").show()"
   ]
  },
  {
   "cell_type": "code",
   "execution_count": null,
   "id": "hairy-southwest",
   "metadata": {},
   "outputs": [],
   "source": [
    "# DRAFT PageRank\n",
    "\n",
    "results = gf.pageRank(resetProbability=0.15, tol=0.01)\n",
    "\n",
    "results.vertices.select(\"cluster\", \"pagerank\").sort(col(\"pagerank\").desc()).show()"
   ]
  },
  {
   "cell_type": "code",
   "execution_count": 10,
   "id": "federal-vintage",
   "metadata": {},
   "outputs": [
    {
     "name": "stdout",
     "output_type": "stream",
     "text": [
      "+---+---+-----+\n",
      "|src|dst|count|\n",
      "+---+---+-----+\n",
      "|729|277|    1|\n",
      "|435|435|    1|\n",
      "|120|120|    1|\n",
      "|735|735|    1|\n",
      "|946|946|    1|\n",
      "|846|846|    1|\n",
      "|213|213|    1|\n",
      "|530|530|    1|\n",
      "|524|524|    1|\n",
      "|  8|102|    1|\n",
      "|274|274|    1|\n",
      "|751|751|    1|\n",
      "|457|457|    1|\n",
      "|347|347|    1|\n",
      "|904|904|    1|\n",
      "| 45| 45|    1|\n",
      "|290|290|    1|\n",
      "|576|576|    1|\n",
      "|731|731|    1|\n",
      "|662|662|    1|\n",
      "+---+---+-----+\n",
      "only showing top 20 rows\n",
      "\n"
     ]
    }
   ],
   "source": [
    "#gf.degrees.sort(col(\"degree\").desc()).show()\n",
    "#gf.outDegrees.sort(col(\"outDegree\").desc()).show()\n",
    "#gf.inDegrees.sort(col(\"inDegree\").desc()).show()\n",
    "\n",
    "\n",
    "gf.edges.groupBy(\"src\", \"dst\").count().orderBy(col(\"count\").desc()).show()"
   ]
  }
 ],
 "metadata": {
  "kernelspec": {
   "display_name": "Python 3",
   "language": "python",
   "name": "python3"
  },
  "language_info": {
   "codemirror_mode": {
    "name": "ipython",
    "version": 3
   },
   "file_extension": ".py",
   "mimetype": "text/x-python",
   "name": "python",
   "nbconvert_exporter": "python",
   "pygments_lexer": "ipython3",
   "version": "3.8.8"
  }
 },
 "nbformat": 4,
 "nbformat_minor": 5
}
