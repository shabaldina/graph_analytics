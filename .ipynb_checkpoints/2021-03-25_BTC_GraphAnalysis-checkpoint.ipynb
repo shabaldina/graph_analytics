{
 "cells": [
  {
   "cell_type": "code",
   "execution_count": 1,
   "id": "signal-namibia",
   "metadata": {},
   "outputs": [],
   "source": [
    "import pandas as pd\n",
    "from graphframes import *\n",
    "from pyspark import *\n",
    "from pyspark.sql import *\n",
    "from pyspark.sql.functions import col\n",
    "spark = SparkSession.builder.appName('fun').config('spark.jars.packages','graphframes:graphframes:0.8.1-spark3.0-s_2.12').getOrCreate()\n",
    "spark.sparkContext.setCheckpointDir('checkpoints')"
   ]
  },
  {
   "cell_type": "code",
   "execution_count": null,
   "id": "entitled-queens",
   "metadata": {},
   "outputs": [],
   "source": [
    "# Load data downloaded via BigQuery (Dataset: crypto_bitcoin)\n",
    "df = pd.read_pickle('BTC_Data/Download_Small.pickle')\n",
    "inputs_outputs = df[df.columns[-2:]].values\n",
    "print('Amount of Transactions loaded: ' + str(len(inputs_outputs)))\n",
    "\n",
    "# Print transaction in readable format\n",
    "for i in inputs_outputs[-2:]:\n",
    "    print('\\n')\n",
    "    print('-----Inputs------------------------------')\n",
    "    for idx in i[0]:\n",
    "        print(idx['addresses'][0] + ' - ' + str(round(idx['value']/100000000,3))) # convert Satoshi to BTC\n",
    "    \n",
    "    print('-----Outputs-----------------------------')\n",
    "    for idx in i[1]:\n",
    "        print(idx['addresses'][0] + ' - ' + str(round(idx['value']/100000000,3))) # convert Satoshi to BTC\n",
    "    print('_________________________________________')"
   ]
  },
  {
   "cell_type": "code",
   "execution_count": null,
   "id": "satisfactory-pension",
   "metadata": {},
   "outputs": [],
   "source": [
    "# Parse data into GraphFrames-readable format\n",
    "# Assumption: ALL input addresses are parsed as fully connected to ALL output addresses\n",
    "\n",
    "# Nodes\n",
    "node_set = set()\n",
    "node_schema = ['id','address']\n",
    "for i in inputs_outputs:\n",
    "    for input_idx in i[0]:\n",
    "        node_set.add(input_idx['addresses'][0])\n",
    "    for output_idx in i[1]:\n",
    "        node_set.add(output_idx['addresses'][0])\n",
    "\n",
    "node_dict = {y: x for x, y in enumerate(node_set)}\n",
    "node_data = [(v,k) for k,v in node_dict.items()]\n",
    "print('Amount of distinct addresses: ' + str(len(node_data)))\n",
    "\n",
    "# Edges\n",
    "edge_data = set()\n",
    "edge_schema = ['src','dst','type']\n",
    "for i in inputs_outputs:\n",
    "    for input_idx in i[0]:\n",
    "        for output_idx in i[1]:\n",
    "            edge_data.add((node_dict[input_idx['addresses'][0]],node_dict[output_idx['addresses'][0]], 'sent_btc_to'))\n",
    "            \n",
    "print('Amount of distinct mutual interactions: ' + str(len(edge_data)))"
   ]
  },
  {
   "cell_type": "code",
   "execution_count": 4,
   "id": "expected-trader",
   "metadata": {},
   "outputs": [],
   "source": [
    "# Load data into Spark GraphFrames\n",
    "vertices = spark.createDataFrame(node_data,node_schema)\n",
    "edges = spark.createDataFrame(edge_data,edge_schema)\n",
    "\n",
    "gf = GraphFrame(vertices,edges)"
   ]
  },
  {
   "cell_type": "code",
   "execution_count": null,
   "id": "local-summary",
   "metadata": {},
   "outputs": [],
   "source": [
    "# DRAFT Connected Components\n",
    "\n",
    "result = gf.connectedComponents()\n",
    "result.select(\"id\", \"component\").orderBy(\"component\").show()"
   ]
  },
  {
   "cell_type": "code",
   "execution_count": null,
   "id": "fantastic-style",
   "metadata": {},
   "outputs": [],
   "source": [
    "# DRAFT PageRank\n",
    "\n",
    "results = gf.pageRank(resetProbability=0.15, tol=0.01)\n",
    "\n",
    "results.vertices.select(\"id\", \"pagerank\").sort(col(\"pagerank\").desc()).show()\n",
    "results.edges.select(\"src\", \"dst\", \"weight\").show()"
   ]
  }
 ],
 "metadata": {
  "kernelspec": {
   "display_name": "Python 3",
   "language": "python",
   "name": "python3"
  },
  "language_info": {
   "codemirror_mode": {
    "name": "ipython",
    "version": 3
   },
   "file_extension": ".py",
   "mimetype": "text/x-python",
   "name": "python",
   "nbconvert_exporter": "python",
   "pygments_lexer": "ipython3",
   "version": "3.8.8"
  }
 },
 "nbformat": 4,
 "nbformat_minor": 5
}
